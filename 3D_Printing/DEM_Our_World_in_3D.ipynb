{
  "nbformat": 4,
  "nbformat_minor": 0,
  "metadata": {
    "colab": {
      "provenance": [],
      "include_colab_link": true
    },
    "kernelspec": {
      "name": "python3",
      "display_name": "Python 3"
    },
    "language_info": {
      "name": "python"
    }
  },
  "cells": [
    {
      "cell_type": "markdown",
      "metadata": {
        "id": "view-in-github",
        "colab_type": "text"
      },
      "source": [
        "<a href=\"https://colab.research.google.com/github/cookpoca/gis-project-portfolio-geo242/blob/main/3D_Printing/DEM_Our_World_in_3D.ipynb\" target=\"_parent\"><img src=\"https://colab.research.google.com/assets/colab-badge.svg\" alt=\"Open In Colab\"/></a>"
      ]
    },
    {
      "cell_type": "markdown",
      "source": [
        "# **The World in 3D**"
      ],
      "metadata": {
        "id": "C0ymCPR5aSHN"
      }
    },
    {
      "cell_type": "markdown",
      "source": [
        "*🚀* Created by Josie, Anna, Cailin, Harrison\n",
        "\n",
        "11/12/2024"
      ],
      "metadata": {
        "id": "Pt_OREXFPvkr"
      }
    },
    {
      "cell_type": "markdown",
      "source": [
        "## **Get ready to start**\n",
        "\n",
        "- Click **`File/Save a copy in Drive`** to save a copy of this notebook to my own Google Drive"
      ],
      "metadata": {
        "id": "CMQN_pgaHVLO"
      }
    },
    {
      "cell_type": "markdown",
      "source": [
        "## **Overview**\n",
        "\n",
        "In this assignment, we used data from [OpenLandform Catalog](https://opentopography.org/learn/lidarlandforms), a service from [OpenTopography](https://opentopography.org/) to obtain data for signature landform processes and then produced models for 3D printing.\n",
        "\n",
        "We used 3D printing service available from Miami University Makerspace in King Library to produce our model.\n",
        "\n",
        "This notebook contains three parts:\n",
        "\n",
        "- Describe the area and geomorphological process our group decides to 3D print\n",
        "- Describe how we converted DEM to a `.stl` file needed for 3D printing\n",
        "  - Compare a ready-to-use `.stl` file available from [OpenLandform Catalog](https://opentopography.org/learn/lidarlandforms) and the one our group made in an [online `stl` file viewer](https://www.viewstl.com/)\n",
        "- Show a picture of our final 3D printing work as our result\n",
        "  - This 3D printed model will be shown during GEO 242A class on 11/10"
      ],
      "metadata": {
        "id": "6tKmlbnzny_I"
      }
    },
    {
      "cell_type": "markdown",
      "source": [
        "## **Our area and process of interest**\n"
      ],
      "metadata": {
        "id": "WVs4J1jQbESU"
      }
    },
    {
      "cell_type": "markdown",
      "source": [
        "- White Sand Dunes in New Mexico\n",
        "  - White Sands National Park in New Mexico features vast, unique dunes made from white gypsum sand. It's one of the world's largest gypsum dune fields, covering over 275 square miles. The gypsum doesn't dissolve due to the basin's lack of drainage, allowing it to form sand and create the stunning, shifting dunes.\n",
        "  -It printed pretty flat, layer by later the 3D printer built ours, only taking about 3 hours. We used white for the white sand dunes. The tops of the sand dunces were the highest points on our 3D print."
      ],
      "metadata": {
        "id": "bXB_pi-aPTOT"
      }
    },
    {
      "cell_type": "markdown",
      "source": [
        "\n",
        "Here is our White Sand Dune:\n",
        "\n",
        "\n",
        "![landform](https://drive.google.com/uc?export=view&id=1Gxa2VC7P7khxIKp8eVW1RSjuU-6OPaAh)\n",
        "\n",
        "Example\n",
        "\n",
        "![landform](https://object.cloud.sdsc.edu/v1/AUTH_opentopography/www/education/OpenLandform/ShutterRidge_vizDEM.png)"
      ],
      "metadata": {
        "id": "wkJqun7umRRk"
      }
    },
    {
      "cell_type": "markdown",
      "source": [
        "## **Produce a `.stl` file for 3D printing**"
      ],
      "metadata": {
        "id": "1_9kgv7nWPi0"
      }
    },
    {
      "cell_type": "markdown",
      "source": [
        "- OpenTopography provided a high resolution DEM file of the sand dunes in the form of a GeoTIFF. The GeoTIFF file was put into QGIS and we used a DEMto3D pulgin to convert the DEM to a .STL file. We chose the extent of the original GeoTIFF file that we wanted in our .STL file, and ran the program to export as a .STL."
      ],
      "metadata": {
        "id": "s1fIk7zdWZF6"
      }
    },
    {
      "cell_type": "markdown",
      "source": [
        "- The .STL file was only a portion of the original DEM file that was provided by OpenTopography. We chose a specific piece of the model in order to speed up the process and reduce large loads of data."
      ],
      "metadata": {
        "id": "WmMUhTQdYBTF"
      }
    },
    {
      "cell_type": "markdown",
      "source": [
        "## **Our 3D printing job**"
      ],
      "metadata": {
        "id": "Xk20_LAdXpEh"
      }
    },
    {
      "cell_type": "markdown",
      "source": [
        "- Below is a picture showing our 3D printing job"
      ],
      "metadata": {
        "id": "JRnEd58fXvbD"
      }
    },
    {
      "cell_type": "markdown",
      "source": [
        "```markdown\n",
        "https://drive.google.com/file/d/1SEY0D6mAeOQERWEpNT-XtiPSFyQWzR35/view?usp=sharing\n",
        "```\n",
        "\n",
        "- After finishing the two steps below, a link can be created to correctly rendered in Google Colab\n",
        "  - Deleted **`/view?usp=sharing`** at the end of the link\n",
        "  - Replaced **`/file/d/`** with **`/uc?export=view&id=`**\n",
        "\n",
        "```markdown\n",
        "https://drive.google.com/uc?export=view&id=1SEY0D6mAeOQERWEpNT-XtiPSFyQWzR35\n",
        "```\n",
        "\n",
        "- The map can be inserted in Google Colab following the syntax [from here](https://www.markdownguide.org/cheat-sheet/)\n",
        "\n",
        "```markdown\n",
        "Insert the picture here using syntax:\n",
        "![3D printing](revised link)\n",
        "```\n",
        "\n",
        "![3D printing](https://drive.google.com/uc?export=view&id=1SEY0D6mAeOQERWEpNT-XtiPSFyQWzR35)"
      ],
      "metadata": {
        "id": "CTzTj_VIWrDj"
      }
    },
    {
      "cell_type": "markdown",
      "source": [
        "## **Save and share this notebook**\n",
        "\n",
        "- Make this notebook viewable by anyone with the link and submit the link to Canvas as Week 11 assignment"
      ],
      "metadata": {
        "id": "kkgukjDcXsqC"
      }
    },
    {
      "cell_type": "markdown",
      "source": [
        "## **Reference**\n",
        "\n",
        "- [Markdown cheat sheet](https://www.markdownguide.org/cheat-sheet/)\n",
        "- [Insert other references]"
      ],
      "metadata": {
        "id": "fvMbEX89YLeY"
      }
    }
  ]
}