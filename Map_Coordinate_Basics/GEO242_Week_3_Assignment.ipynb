{
  "nbformat": 4,
  "nbformat_minor": 0,
  "metadata": {
    "colab": {
      "provenance": [],
      "include_colab_link": true
    },
    "kernelspec": {
      "name": "python3",
      "display_name": "Python 3"
    },
    "language_info": {
      "name": "python"
    }
  },
  "cells": [
    {
      "cell_type": "markdown",
      "metadata": {
        "id": "view-in-github",
        "colab_type": "text"
      },
      "source": [
        "<a href=\"https://colab.research.google.com/github/cookpoca/gis-project-portfolio-geo242/blob/main/Map_Coordinate_Basics/GEO242_Week_3_Assignment.ipynb\" target=\"_parent\"><img src=\"https://colab.research.google.com/assets/colab-badge.svg\" alt=\"Open In Colab\"/></a>"
      ]
    },
    {
      "cell_type": "markdown",
      "source": [
        "## **GEO 242A Week 3 Assignment: Understanding the Map Projection**"
      ],
      "metadata": {
        "id": "C0ymCPR5aSHN"
      }
    },
    {
      "cell_type": "markdown",
      "source": [
        "🚀 Created by Cailin Cook-Porter\n",
        "\n",
        "09/11/2024"
      ],
      "metadata": {
        "id": "Pt_OREXFPvkr"
      }
    },
    {
      "cell_type": "markdown",
      "source": [
        "### **0. Get ready to start**\n",
        "\n",
        "- Use **`File\\Save a copy in Drive`** to make a copy of this notebook in my own Google Drive\n",
        "- By default, this notebooks will be saved to a new folder called **`Colab`** under root directory of my Google Drive"
      ],
      "metadata": {
        "id": "v84Fkx0LHARM"
      }
    },
    {
      "cell_type": "markdown",
      "source": [
        "### **1. Understand information in a coordinate reference system (CRS)**\n",
        "\n",
        "- We loaded a **`geojson`** file of the world into QGIS and inspected the CRS information\n",
        "\n",
        "a. **What's included in the CRS information?**\n",
        "\n",
        "| Variable      | Indication  |\n",
        "| --------------| ----------- |\n",
        "| Name of CRS     | EPSG:4326 - WGS 84  |\n",
        "| Method | Lat/long (Geodetic alias) |\n",
        "| Based on datum     | World Geodetic System 1984 ensemble |\n",
        "| Geographic or Projected CRS    | Geographic   |\n",
        "| EPSG number | 4326 |\n",
        "\n",
        "\n",
        "b. **Read Well-Known Text (WKT) of EPSG:4326**\n",
        "\n",
        "| Variable      | Indication  |\n",
        "| --------------| ----------- |\n",
        "| Name of Ellipsoid     | WGS 84  |\n",
        "| Radius used by the ellipsoid     | 6378137,298.257    |\n",
        "| Angle unit    | degree, 0.017  |\n",
        "| Angle unit of North Axis | geodetic latitude - degree, 0.017|\n",
        "| Angle unit of East Axis | geodatic longitude - degree, 0.017|\n",
        "\n",
        "\n",
        "c. **Why the North and East axis of the ellipsoid uses the same angle unit?**\n",
        "\n",
        "![wgs84 sphere](https://drive.google.com/uc?export=view&id=16JfbIaLJ78LvQ8OCdTE9LxVqUoMkMyWz)\n",
        "\n",
        "- Calculate the % difference between semi-axis *a* and *b*\n",
        "\n",
        "$$\n",
        "0.335 = \\frac{6378.1370-6356.7523}{6378.1370} \\times 100%\n",
        "$$\n",
        "\n",
        "- This is a very small value, therefore we can treat *a* and *b* as the same value in some less strict scenarios\n",
        "\n",
        "\n"
      ],
      "metadata": {
        "id": "WVs4J1jQbESU"
      }
    },
    {
      "cell_type": "markdown",
      "source": [
        "### **2. Understand the distortion involved in projection**\n",
        "\n",
        "- We can use [Tissot's Indicatrix](https://en.wikipedia.org/wiki/Tissot%27s_indicatrix) to represent the distortion involved in the projection process\n",
        "  - Tissort's indicatrix of Behrmann Projection shows the level of distortion and how it changes with latitudes\n",
        "\n",
        "![behrmann projection](https://upload.wikimedia.org/wikipedia/commons/b/bc/Tissot_behrmann.png)\n",
        "\n",
        "- Under **WGS 84**, Tissort's Indicatrix shows no distortion because\n",
        "  - WGS 84 uses a geographic coordinate system - there is no projection involved\n",
        "\n",
        "- If we change the CRS from **WGS 84** to **Robinson Projection**, Tissort's indicatrix shows the distortion near the border of the map\n",
        "\n",
        "- **Take a screenshot of your map and insert this picture into notebook**\n",
        "  - Step 1: Remove **/view?usp=sharing** at the end of the link;\n",
        "  - Step 2: Replace **/file/d/** with **/uc?export=view&id=**\n",
        "\n",
        " ![Distortion Map](https://drive.google.com/uc?export=view&id=1hqivxjVrU0mYgKAcNxccoilaAxs8NZpF)\n",
        "\n",
        "- The difference between WGS 84 (a geographic coordinate system) and Robinson projection (a projected coordinate system) includes:\n",
        "\n",
        "|       | Robinson Projection  | WGS 84 |\n",
        "| --------------| ----------- |-----------|\n",
        "| **Datum**     | World Geodetic System 1984  | World Geodetic System 1984 ensemble  |\n",
        "| **Unit**     | Meters  | Degrees |\n",
        "| **Distortion**    | Distortion around borders  | None |\n",
        "| **Spherical or cartesian coordinate system?** | Cartesian |Spherical  |"
      ],
      "metadata": {
        "id": "i4RTLellbUh7"
      }
    },
    {
      "cell_type": "markdown",
      "source": [
        "### **3. Examine the Universal Transverse Mercator (UTM) projection**\n",
        "\n",
        "- UTM project divides the Earth into different zones to **control the distortion**\n",
        "\n",
        "![UTM](https://www.e-education.psu.edu/geog862/sites/www.e-education.psu.edu.geog862/files/images/Lesson05/UTMZones.bmp)\n",
        "\n",
        "*Image: UTM zones in lower 48 states*"
      ],
      "metadata": {
        "id": "kkgukjDcXsqC"
      }
    },
    {
      "cell_type": "markdown",
      "source": [
        "- Below is the basic information of the USGS topographic map we examined\n",
        "\n",
        "|       | USGS Topo Map  |\n",
        "| --------------| ----------- |\n",
        "| **Name of Projection**     | Universal Transverse Mercator  |\n",
        "| **Zone** | 16S |\n",
        "| **Datum**     | North American Datum of 1983 (NAD83)   |\n",
        "| **Scale**   | 1:24,000   |\n",
        "| **Unit of coordinates**   | Meters   |\n",
        "| **Latitude of bottom right corner** | 39.5000 |\n",
        "| **Longitude of bottom right corner** | -84.6250 |\n",
        "| **X coordinate of bottom right corner** | 704000m E |\n",
        "| **Y coordinate of bottom right corner** | 4375000m N |"
      ],
      "metadata": {
        "id": "tj5QFb0FXuqd"
      }
    },
    {
      "cell_type": "markdown",
      "source": [
        "### **Reference**\n",
        "\n",
        "- [Markdown cheat sheet](https://www.markdownguide.org/cheat-sheet/)\n",
        "- [Insert other references if available]"
      ],
      "metadata": {
        "id": "fvMbEX89YLeY"
      }
    }
  ]
}